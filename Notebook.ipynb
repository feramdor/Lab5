{
 "cells": [
  {
   "cell_type": "markdown",
   "metadata": {},
   "source": [
    " <p align = 'center'>\n",
    " <img src = 'ITESO.png' width = '900' height = '250'/>\n",
    " </p>"
   ]
  },
  {
   "cell_type": "markdown",
   "metadata": {},
   "source": [
    "<center><font color=#555555><font size=6> MAF1731 - Microstructure and Trading Systems </font> <br> <br>\n",
    "\n",
    "<center><font color=#555555><font size=6> María Fernanada Amador Alvarez </font> <br> <br>\n",
    "<center><font color=#555555><font size=6> Gerardo González Flores </font> <br> <br>\n",
    "<center><font color=#555555><font size=6> Ana Sofía Dürrmüller </font> <br> <br>\n",
    "<center><font color=#555555><font size=6> Maximiliano García Mora </font> <br> <br>\n",
    "   \n",
    "<center> <font color= #555555> <font size = 4> Marzo 2023 </a> | <font color= #555555> <font size = 4> Repository: <a href='https://github.com/feramdor/Lab5'>Link</a></font>"
   ]
  },
  {
   "cell_type": "markdown",
   "metadata": {},
   "source": [
    "# Módulo 5"
   ]
  },
  {
   "cell_type": "markdown",
   "metadata": {},
   "source": [
    "Análisis Técnico"
   ]
  },
  {
   "cell_type": "markdown",
   "metadata": {},
   "source": [
    "# 1. Introducción"
   ]
  },
  {
   "cell_type": "markdown",
   "metadata": {},
   "source": [
    "El proyecto propuesto tiene como objetivo utilizar análisis técnico y herramientas financieras para generar oportunidades de trading en un par de divisas durante un período de entrenamiento y prueba. Se espera que el proyecto tenga la estructura básica de proyectos de Python y que se divida en tareas predefinidas para cada perfil. Además, se deben definir los cuatro criterios del sistema de trading y se debe realizar una optimización y backtest financiero del sistema utilizando parámetros específicos. El proyecto también incluirá aspectos estadísticos y computacionales, como la propuesta de estudios técnicos, la definición de una función de utilidad y parámetros a optimizar, el espacio de búsqueda y el método de optimización utilizado. Finalmente, se debe aplicar el sistema de trading a los datos de prueba y presentar los resultados a través de gráficas y tablas."
   ]
  },
  {
   "cell_type": "markdown",
   "metadata": {},
   "source": [
    "### 1.1 Objetivos:"
   ]
  },
  {
   "cell_type": "markdown",
   "metadata": {},
   "source": [
    "Utilizar entre 2 y 4 estudios técnicos como herramientas para la generación de oportunidades de trading, lo que equivale a utilizar análisis técnico."
   ]
  },
  {
   "cell_type": "markdown",
   "metadata": {},
   "source": [
    "# 2. Paqueterías a utilizar"
   ]
  },
  {
   "cell_type": "code",
   "execution_count": 2,
   "metadata": {},
   "outputs": [],
   "source": [
    "import functions\n",
    "import data\n",
    "import visualizations\n",
    "import plotly.io as pio"
   ]
  },
  {
   "cell_type": "markdown",
   "metadata": {},
   "source": [
    "### 2. Archivos necesarios"
   ]
  },
  {
   "cell_type": "markdown",
   "metadata": {},
   "source": [
    "- AUSUSD_test\n",
    "- AUDUSD_train"
   ]
  },
  {
   "cell_type": "markdown",
   "metadata": {},
   "source": [
    "# 3. Visualización"
   ]
  },
  {
   "cell_type": "code",
   "execution_count": 3,
   "metadata": {},
   "outputs": [
    {
     "data": {
      "text/html": [
       "<div>\n",
       "<style scoped>\n",
       "    .dataframe tbody tr th:only-of-type {\n",
       "        vertical-align: middle;\n",
       "    }\n",
       "\n",
       "    .dataframe tbody tr th {\n",
       "        vertical-align: top;\n",
       "    }\n",
       "\n",
       "    .dataframe thead th {\n",
       "        text-align: right;\n",
       "    }\n",
       "</style>\n",
       "<table border=\"1\" class=\"dataframe\">\n",
       "  <thead>\n",
       "    <tr style=\"text-align: right;\">\n",
       "      <th></th>\n",
       "      <th>timeStamp</th>\n",
       "      <th>Open</th>\n",
       "      <th>High</th>\n",
       "      <th>Low</th>\n",
       "      <th>Close</th>\n",
       "      <th>Mid</th>\n",
       "    </tr>\n",
       "  </thead>\n",
       "  <tbody>\n",
       "    <tr>\n",
       "      <th>0</th>\n",
       "      <td>2020-01-01</td>\n",
       "      <td>0.701508</td>\n",
       "      <td>0.704500</td>\n",
       "      <td>0.701508</td>\n",
       "      <td>0.701700</td>\n",
       "      <td>0.701700</td>\n",
       "    </tr>\n",
       "    <tr>\n",
       "      <th>1</th>\n",
       "      <td>2020-01-02</td>\n",
       "      <td>0.701892</td>\n",
       "      <td>0.702100</td>\n",
       "      <td>0.698130</td>\n",
       "      <td>0.701951</td>\n",
       "      <td>0.701951</td>\n",
       "    </tr>\n",
       "    <tr>\n",
       "      <th>2</th>\n",
       "      <td>2020-01-03</td>\n",
       "      <td>0.698370</td>\n",
       "      <td>0.698661</td>\n",
       "      <td>0.693140</td>\n",
       "      <td>0.698519</td>\n",
       "      <td>0.698519</td>\n",
       "    </tr>\n",
       "    <tr>\n",
       "      <th>3</th>\n",
       "      <td>2020-01-06</td>\n",
       "      <td>0.694729</td>\n",
       "      <td>0.695900</td>\n",
       "      <td>0.692602</td>\n",
       "      <td>0.694420</td>\n",
       "      <td>0.694420</td>\n",
       "    </tr>\n",
       "    <tr>\n",
       "      <th>4</th>\n",
       "      <td>2020-01-07</td>\n",
       "      <td>0.693720</td>\n",
       "      <td>0.694100</td>\n",
       "      <td>0.686111</td>\n",
       "      <td>0.693731</td>\n",
       "      <td>0.693731</td>\n",
       "    </tr>\n",
       "    <tr>\n",
       "      <th>...</th>\n",
       "      <td>...</td>\n",
       "      <td>...</td>\n",
       "      <td>...</td>\n",
       "      <td>...</td>\n",
       "      <td>...</td>\n",
       "      <td>...</td>\n",
       "    </tr>\n",
       "    <tr>\n",
       "      <th>258</th>\n",
       "      <td>2020-12-28</td>\n",
       "      <td>0.761348</td>\n",
       "      <td>0.762400</td>\n",
       "      <td>0.755960</td>\n",
       "      <td>0.761191</td>\n",
       "      <td>0.761191</td>\n",
       "    </tr>\n",
       "    <tr>\n",
       "      <th>259</th>\n",
       "      <td>2020-12-29</td>\n",
       "      <td>0.758858</td>\n",
       "      <td>0.762500</td>\n",
       "      <td>0.758478</td>\n",
       "      <td>0.758892</td>\n",
       "      <td>0.758892</td>\n",
       "    </tr>\n",
       "    <tr>\n",
       "      <th>260</th>\n",
       "      <td>2020-12-30</td>\n",
       "      <td>0.761200</td>\n",
       "      <td>0.768622</td>\n",
       "      <td>0.760720</td>\n",
       "      <td>0.760990</td>\n",
       "      <td>0.760990</td>\n",
       "    </tr>\n",
       "    <tr>\n",
       "      <th>261</th>\n",
       "      <td>2020-12-31</td>\n",
       "      <td>0.768900</td>\n",
       "      <td>0.774140</td>\n",
       "      <td>0.768690</td>\n",
       "      <td>0.768929</td>\n",
       "      <td>0.768929</td>\n",
       "    </tr>\n",
       "    <tr>\n",
       "      <th>262</th>\n",
       "      <td>2021-01-01</td>\n",
       "      <td>0.777180</td>\n",
       "      <td>0.820760</td>\n",
       "      <td>0.769823</td>\n",
       "      <td>0.770297</td>\n",
       "      <td>0.770297</td>\n",
       "    </tr>\n",
       "  </tbody>\n",
       "</table>\n",
       "<p>263 rows × 6 columns</p>\n",
       "</div>"
      ],
      "text/plain": [
       "      timeStamp      Open      High       Low     Close       Mid\n",
       "0    2020-01-01  0.701508  0.704500  0.701508  0.701700  0.701700\n",
       "1    2020-01-02  0.701892  0.702100  0.698130  0.701951  0.701951\n",
       "2    2020-01-03  0.698370  0.698661  0.693140  0.698519  0.698519\n",
       "3    2020-01-06  0.694729  0.695900  0.692602  0.694420  0.694420\n",
       "4    2020-01-07  0.693720  0.694100  0.686111  0.693731  0.693731\n",
       "..          ...       ...       ...       ...       ...       ...\n",
       "258  2020-12-28  0.761348  0.762400  0.755960  0.761191  0.761191\n",
       "259  2020-12-29  0.758858  0.762500  0.758478  0.758892  0.758892\n",
       "260  2020-12-30  0.761200  0.768622  0.760720  0.760990  0.760990\n",
       "261  2020-12-31  0.768900  0.774140  0.768690  0.768929  0.768929\n",
       "262  2021-01-01  0.777180  0.820760  0.769823  0.770297  0.770297\n",
       "\n",
       "[263 rows x 6 columns]"
      ]
     },
     "execution_count": 3,
     "metadata": {},
     "output_type": "execute_result"
    }
   ],
   "source": [
    "# Train\n",
    "train_df = data.data_open_2(\"AUDUSD_train.csv\")\n",
    "train_df"
   ]
  },
  {
   "cell_type": "code",
   "execution_count": 4,
   "metadata": {},
   "outputs": [
    {
     "data": {
      "text/html": [
       "<div>\n",
       "<style scoped>\n",
       "    .dataframe tbody tr th:only-of-type {\n",
       "        vertical-align: middle;\n",
       "    }\n",
       "\n",
       "    .dataframe tbody tr th {\n",
       "        vertical-align: top;\n",
       "    }\n",
       "\n",
       "    .dataframe thead th {\n",
       "        text-align: right;\n",
       "    }\n",
       "</style>\n",
       "<table border=\"1\" class=\"dataframe\">\n",
       "  <thead>\n",
       "    <tr style=\"text-align: right;\">\n",
       "      <th></th>\n",
       "      <th>timeStamp</th>\n",
       "      <th>Open</th>\n",
       "      <th>High</th>\n",
       "      <th>Low</th>\n",
       "      <th>Close</th>\n",
       "      <th>Mid</th>\n",
       "    </tr>\n",
       "  </thead>\n",
       "  <tbody>\n",
       "    <tr>\n",
       "      <th>0</th>\n",
       "      <td>2021-02-01</td>\n",
       "      <td>0.762062</td>\n",
       "      <td>0.766401</td>\n",
       "      <td>0.76135</td>\n",
       "      <td>0.761998</td>\n",
       "      <td>0.761998</td>\n",
       "    </tr>\n",
       "    <tr>\n",
       "      <th>1</th>\n",
       "      <td>2021-02-02</td>\n",
       "      <td>0.763330</td>\n",
       "      <td>0.766190</td>\n",
       "      <td>0.75667</td>\n",
       "      <td>0.763460</td>\n",
       "      <td>0.763460</td>\n",
       "    </tr>\n",
       "    <tr>\n",
       "      <th>2</th>\n",
       "      <td>2021-02-03</td>\n",
       "      <td>0.760900</td>\n",
       "      <td>0.762700</td>\n",
       "      <td>0.76024</td>\n",
       "      <td>0.760821</td>\n",
       "      <td>0.760821</td>\n",
       "    </tr>\n",
       "    <tr>\n",
       "      <th>3</th>\n",
       "      <td>2021-02-04</td>\n",
       "      <td>0.763633</td>\n",
       "      <td>0.764750</td>\n",
       "      <td>0.75900</td>\n",
       "      <td>0.763600</td>\n",
       "      <td>0.763600</td>\n",
       "    </tr>\n",
       "    <tr>\n",
       "      <th>4</th>\n",
       "      <td>2021-02-05</td>\n",
       "      <td>0.760092</td>\n",
       "      <td>0.766000</td>\n",
       "      <td>0.75844</td>\n",
       "      <td>0.760300</td>\n",
       "      <td>0.760300</td>\n",
       "    </tr>\n",
       "    <tr>\n",
       "      <th>...</th>\n",
       "      <td>...</td>\n",
       "      <td>...</td>\n",
       "      <td>...</td>\n",
       "      <td>...</td>\n",
       "      <td>...</td>\n",
       "      <td>...</td>\n",
       "    </tr>\n",
       "    <tr>\n",
       "      <th>257</th>\n",
       "      <td>2022-01-26</td>\n",
       "      <td>0.715880</td>\n",
       "      <td>0.717800</td>\n",
       "      <td>0.71508</td>\n",
       "      <td>0.715880</td>\n",
       "      <td>0.715880</td>\n",
       "    </tr>\n",
       "    <tr>\n",
       "      <th>258</th>\n",
       "      <td>2022-01-27</td>\n",
       "      <td>0.712140</td>\n",
       "      <td>0.712140</td>\n",
       "      <td>0.70421</td>\n",
       "      <td>0.712300</td>\n",
       "      <td>0.712300</td>\n",
       "    </tr>\n",
       "    <tr>\n",
       "      <th>259</th>\n",
       "      <td>2022-01-28</td>\n",
       "      <td>0.703700</td>\n",
       "      <td>0.704722</td>\n",
       "      <td>0.69686</td>\n",
       "      <td>0.703550</td>\n",
       "      <td>0.703550</td>\n",
       "    </tr>\n",
       "    <tr>\n",
       "      <th>260</th>\n",
       "      <td>2022-01-31</td>\n",
       "      <td>0.699428</td>\n",
       "      <td>0.707914</td>\n",
       "      <td>0.69932</td>\n",
       "      <td>0.699800</td>\n",
       "      <td>0.699800</td>\n",
       "    </tr>\n",
       "    <tr>\n",
       "      <th>261</th>\n",
       "      <td>2022-02-01</td>\n",
       "      <td>0.706590</td>\n",
       "      <td>0.711794</td>\n",
       "      <td>0.70347</td>\n",
       "      <td>0.706830</td>\n",
       "      <td>0.706830</td>\n",
       "    </tr>\n",
       "  </tbody>\n",
       "</table>\n",
       "<p>262 rows × 6 columns</p>\n",
       "</div>"
      ],
      "text/plain": [
       "      timeStamp      Open      High      Low     Close       Mid\n",
       "0    2021-02-01  0.762062  0.766401  0.76135  0.761998  0.761998\n",
       "1    2021-02-02  0.763330  0.766190  0.75667  0.763460  0.763460\n",
       "2    2021-02-03  0.760900  0.762700  0.76024  0.760821  0.760821\n",
       "3    2021-02-04  0.763633  0.764750  0.75900  0.763600  0.763600\n",
       "4    2021-02-05  0.760092  0.766000  0.75844  0.760300  0.760300\n",
       "..          ...       ...       ...      ...       ...       ...\n",
       "257  2022-01-26  0.715880  0.717800  0.71508  0.715880  0.715880\n",
       "258  2022-01-27  0.712140  0.712140  0.70421  0.712300  0.712300\n",
       "259  2022-01-28  0.703700  0.704722  0.69686  0.703550  0.703550\n",
       "260  2022-01-31  0.699428  0.707914  0.69932  0.699800  0.699800\n",
       "261  2022-02-01  0.706590  0.711794  0.70347  0.706830  0.706830\n",
       "\n",
       "[262 rows x 6 columns]"
      ]
     },
     "execution_count": 4,
     "metadata": {},
     "output_type": "execute_result"
    }
   ],
   "source": [
    "# Test\n",
    "test_df = data.data_open_2(\"AUDUSD_test.csv\")\n",
    "test_df"
   ]
  },
  {
   "cell_type": "markdown",
   "metadata": {},
   "source": [
    "### 3.1 Datos y Validaciones\n",
    "1. Capital inicial: $100,000\n",
    "2. AUDUSD (Dólar Australiano vs. Dólar Estadounidense)\n",
    "3. Riesgo máximo por operación (pérdida máximo): $1,000 usd\n",
    "4. Datos divididos de la siguiente manera:\n",
    "Periodo de entrenamiento: 01/ene/2020 - 01/ene/2021\n",
    "Periodo de prueba: 01/Feb/2021 - 01/Feb/2022"
   ]
  },
  {
   "cell_type": "code",
   "execution_count": 5,
   "metadata": {},
   "outputs": [
    {
     "data": {
      "text/plain": [
       "('2020-01-01', '2021-01-01')"
      ]
     },
     "execution_count": 5,
     "metadata": {},
     "output_type": "execute_result"
    }
   ],
   "source": [
    "# Train\n",
    "train_df[\"timeStamp\"].min(),train_df[\"timeStamp\"].max()"
   ]
  },
  {
   "cell_type": "code",
   "execution_count": 6,
   "metadata": {},
   "outputs": [
    {
     "data": {
      "text/plain": [
       "('2021-02-01', '2022-02-01')"
      ]
     },
     "execution_count": 6,
     "metadata": {},
     "output_type": "execute_result"
    }
   ],
   "source": [
    "# Test\n",
    "test_df[\"timeStamp\"].min(),test_df[\"timeStamp\"].max()"
   ]
  },
  {
   "cell_type": "markdown",
   "metadata": {},
   "source": [
    "### 3.2 Aspectos Estadísticos\n",
    "\n",
    "#### 3.2.1 Estudios Técnicos\n",
    "\n",
    "Se han implementado los siguientes 3 estudios técnicos para utilizarse como indicadores para la implementación de una estrategia de Trading:\n",
    "\n"
   ]
  },
  {
   "cell_type": "markdown",
   "metadata": {},
   "source": [
    "### **Exponencial Moving Average (EMA)**\n",
    "\n",
    "El Exponential Moving Average (EMA) es un indicador técnico utilizado en análisis técnico de valores bursátiles para suavizar los datos de precios y mostrar la tendencia subyacente del precio de un activo. A diferencia del Simple Moving Average (SMA), el EMA da más peso a los precios más recientes, lo que lo convierte en un indicador más sensible a los cambios de precio más recientes.\n",
    "\n",
    "La fórmula para el EMA es la siguiente:\n",
    "\n",
    "$$ EMA(i) = (Precio(i) - EMA(i-1)) * (2 / (n + 1)) + EMA(i-1)$$\n",
    "\n",
    "Donde:\n",
    "\n",
    "- $i$ es el índice de la fila actual en el dataframe.\n",
    "- $EMA(i)$ es el valor del EMA para la fila i.\n",
    "- $Precio(i)$ es el precio de cierre para la fila i.\n",
    "- $EMA(i-1)$ es el valor del EMA para la fila anterior.\n",
    "- $n$ es el número de períodos en el que se calcula el EMA.\n",
    "La fórmula se aplica iterativamente a cada fila del dataframe de precios para calcular el valor del EMA para esa fila. Para la primera fila, el valor del EMA es igual al precio de cierre. Para las filas siguientes, se utiliza el valor del EMA de la fila anterior en la fórmula para calcular el valor actual del EMA.\n",
    "\n",
    "El valor de n en la fórmula del EMA es el número de períodos utilizados para calcular el EMA. Por ejemplo, si n es igual a 10, entonces el EMA se calcula utilizando los precios de cierre de los últimos 10 períodos. El valor de n puede ser ajustado por el analista técnico en función de sus preferencias y objetivos de análisis."
   ]
  },
  {
   "cell_type": "markdown",
   "metadata": {},
   "source": [
    "### **Parabolic SAR**\n",
    "\n",
    "El Parabolic SAR (Stop and Reverse) es un indicador técnico utilizado en análisis técnico de valores bursátiles para determinar el momento y la dirección del precio de un activo. La función del Parabolic SAR es identificar la tendencia del precio y proporcionar señales para comprar o vender el activo.\n",
    "\n",
    "El SAR fue desarrollado por el analista técnico J. Welles Wilder y fue presentado en su libro \"New Concepts in Technical Trading Systems\" en 1978. Es una herramienta comúnmente utilizada por los traders y analistas técnicos para ayudar en la toma de decisiones de inversión.\n",
    "La fórmula para el valor del Parabolic SAR se calcula de acuerdo con la siguiente fórmula:\n",
    "\n",
    "Si la tendencia es alcista:\n",
    "$$SAR(i) = SAR(i - 1) + AF(i - 1) * (EP(i - 1) - SAR(i - 1))$$\n",
    "Si la tendencia es bajista:\n",
    "$$SAR(i) = SAR(i - 1) - AF(i - 1) * (SAR(i - 1) - EP(i - 1))$$\n",
    "\n",
    "Donde:\n",
    "\n",
    "- $i$ es el índice de la fila actual en el dataframe.\n",
    "- $SAR(i)$ es el valor del Parabolic SAR para la fila i.\n",
    "- $SAR(i-1)$ es el valor del Parabolic SAR para la fila anterior.\n",
    "- $AF(i-1)$ es el factor de aceleración para la fila anterior.\n",
    "- $EP(i-1)$ es la tasa de cambio extrema para la fila anterior.\n",
    "La tasa de cambio extrema (EP, por sus siglas en inglés) es el precio más alto o más bajo observado durante la tendencia actual, según sea el caso. El factor de aceleración (AF, por sus siglas en inglés) es un valor que aumenta a medida que la tendencia continúa, lo que hace que el indicador sea más sensible a los cambios de precio. El valor inicial de AF se establece en un valor predeterminado, y luego aumenta en incrementos fijos a medida que la tendencia continúa, hasta alcanzar un valor máximo establecido por el analista técnico.\n",
    "\n",
    "El valor inicial del Parabolic SAR se establece como el mínimo entre los precios mínimos de las dos primeras filas. Es decir:\n",
    "\n",
    "$$SAR(1) = \\min(Low(1), Low(2))$$\n",
    "Donde Low(1) es el precio mínimo para la primera fila, y Low(2) es el precio mínimo para la segunda fila."
   ]
  },
  {
   "cell_type": "markdown",
   "metadata": {},
   "source": [
    "### **Aroon Oscillator**\n",
    "\n",
    "El Aroon Oscillator es un indicador técnico utilizado en análisis técnico de valores bursátiles para medir la fuerza de la tendencia y la probabilidad de que se produzca un cambio en la tendencia. Es una versión del indicador Aroon que se representa como un oscilador con valores que oscilan alrededor de una línea central de cero.\n",
    "El Aroon Oscillator puede tomar valores positivos o negativos. Los valores positivos indican que la tendencia alcista está ganando fuerza, mientras que los valores negativos indican que la tendencia bajista está ganando fuerza. Un valor de cero indica que no hay tendencia clara en el mercado.\n",
    "\n",
    "La línea central de cero del Aroon Oscillator se utiliza como una señal para la toma de decisiones de inversión. Cuando el Aroon Oscillator cruza por encima de cero, se considera una señal de compra, y cuando cruza por debajo de cero, se considera una señal de venta.\n",
    "\n",
    "Su fórmula es:\n",
    "$$Aroon Oscillator = Aroon Up - Aroon Down$$\n",
    "Donde:\n",
    "$$Aroon Up = ((N - Periodo desde el último máximo) / N) * 100$$\n",
    "$$Aroon Down = ((N - Periodo desde el último mínimo) / N) * 100$$\n",
    "Donde:\n",
    "\n",
    "- N es el número total de períodos considerados en el cálculo del indicador.\n",
    "- Periodo desde el último máximo es el número de períodos desde el último máximo más alto hasta el período actual.\n",
    "- Periodo desde el último mínimo es el número de períodos desde el último mínimo más bajo hasta el período actual.\n",
    "- Aroon Up es el valor del indicador Aroon que mide la cantidad de períodos desde el último máximo más alto.\n",
    "- Aroon Down es el valor del indicador Aroon que mide la cantidad de períodos desde el último mínimo más bajo.\n",
    "- El valor de N en la fórmula es el número total de períodos considerados en el cálculo del indicador. Este valor se puede ajustar según las preferencias y objetivos del analista técnico.\n",
    "\n",
    "El Aroon Up y el Aroon Down son indicadores separados que miden la cantidad de períodos desde el último máximo más alto y el último mínimo más bajo, respectivamente. Ambos indicadores varían entre 0 y 100, donde 100 indica que el máximo o el mínimo más reciente se alcanzó en el período actual, y 0 indica que no se alcanzó ningún máximo o mínimo en el período considerado.\n",
    "\n",
    "El Aroon se utiliza comúnmente en análisis técnico para identificar la fuerza y la dirección de la tendencia en el mercado y para determinar cuándo se pueden producir cambios en la tendencia."
   ]
  },
  {
   "cell_type": "markdown",
   "metadata": {},
   "source": [
    "#### 3.2.2 Estrategia de Entrada y Salida\n",
    "La estrategia de trading utiliza los indicadores Parabolic SAR, Aroon Oscillator y EMA para tomar decisiones de compra y venta. Las reglas de entrada son las siguientes:\n",
    "\n",
    "- Si el precio de cierre es mayor que la EMA, el indicador Parabolic SAR está por debajo del precio y el Aroon Oscillator es positivo, se abre una posición larga (compra).\n",
    "- Si el precio de cierre es menor que la EMA, el indicador Parabolic SAR está por encima del precio y el Aroon Oscillator es negativo, se cierra la posición larga abierta previamente (venta).\n",
    "Las reglas de Stop Loss y Take Profit son las siguientes:\n",
    "\n",
    "- Si el capital diario alcanza un valor que representa una ganancia igual o superior al valor de take_profit_ratio del capital inicial, se activa la orden de Take Profit para cerrar la posición larga abierta.\n",
    "- Si el capital diario alcanza un valor que representa una pérdida igual o superior al valor de stop_loss_ratio del capital inicial, se activa la orden de Stop Loss para cerrar la posición larga abierta.\n",
    "La fórmula para entrar en una posición larga es la siguiente:\n",
    "$$Long_Entry = (Close > EMA) \\& (ParabolicSAR < Close) \\& (AroonOscillator > 0) \\& (Position == 0)$$\n",
    "La fórmula para salir de una posición larga es la siguiente:\n",
    "$$Exit = (Close < EMA) \\& (ParabolicSAR > Close) \\& (AroonOscillator < 0) \\& (Position == 1)$$\n",
    "Donde:\n",
    "\n",
    "- Close es el precio de cierre del activo.\n",
    "- EMA es la media móvil exponencial del precio.\n",
    "- Parabolic_SAR es el valor del Parabolic SAR.\n",
    "- Aroon_Oscillator es el valor del Aroon Oscillator.\n",
    "- Position es el estado de la posición (0 = no se tiene ninguna posición abierta, 1 = se tiene una posición larga abierta).\n",
    "- Long_Entry es una variable booleana que indica si se cumplieron las condiciones para abrir una posición larga.\n",
    "- Exit es una variable booleana que indica si se cumplieron las condiciones para cerrar una posición larga."
   ]
  },
  {
   "cell_type": "markdown",
   "metadata": {},
   "source": [
    "### 3.3 Aspectos Computacionales\n",
    "#### 3.3.1 Función de Utilidad\n",
    "Se busca maximizar el retorno total de la estrategia de trading, variando el Take Profit, Stop Loss y tamaño de la operación\n",
    "#### 3.3.2 Parámetros a Optimizar\n",
    "- Parámetro 1\n",
    "    - Nombre: Volumen o tamaño de la operación\n",
    "    - Descripción: Volumen en unidades monetarias (dólares), con el que se abre la operación\n",
    "    - Tipo de rango: Numérico\n",
    "    - Rango de valores 100 - 10000\n",
    "    - Tamaño de paso mínimo: 10\n",
    "- Parámetro 2\n",
    "    - Nombre: Take Profit\n",
    "    - Descripción: Dólares de ganancia con el cuál se cierra la operación\n",
    "    - Tipo de rango: Numérico\n",
    "    - Rango de valores 0 - Capital Total\n",
    "    - Tamaño de paso mínimo: 1000\n",
    "- Parámetro 3\n",
    "    - Nombre: Stop Loss\n",
    "    - Descripción: Dólares de pérdida con los que se cierra la operación\n",
    "    - Tipo de rango: Numérico\n",
    "    - Rango de valores -Capital Total - 0\n",
    "    - Tamaño de paso mínimo: 1000\n",
    "\n",
    "#### 3.3.3 Espacio de Búsqueda\n",
    "\n",
    "- Parámetro 1 (Volumen): Rango de valores (100 - 10000) / Tamaño de paso mínimo (10) + 1 = 991 valores posible.\n",
    "- Parámetro 2 (Take Profit): (0 - 100000) / 1000 + 1 = 101 valores posibles\n",
    "- Parámetro 3 (Stop Loss): (-100000 - 0) / 1000 + 1 = 101 valores posibles\n",
    "Entonces, el espacio total de búsqueda sería el producto de la cantidad de valores posibles para cada parámetro:\n",
    "Espacio de búsqueda = 991 (Volumen) * 101 (Take Profit) * 101 (Stop Loss) = 10,181,391 valores posibles\n",
    "\n",
    "Esto significa que hay 10,181,391 posibles combinaciones de los valores de estos tres parámetros en el espacio de búsqueda.\n",
    "\n",
    "#### 3.3.4 Tiempo de búsqueda exhaustiva\n",
    "\n",
    "Asignando 0.5 segundos de tiempo transcurrido para cada vez que corres el código con una configuración de parámetros, dadas 10,181,391 posibles combinaciones, el tiempo es de:\n",
    "\n",
    "Tiempo de búsqueda exhaustiva = 5,090,695.5 segundos\n",
    "\n",
    "El tiempo de búsqueda exhaustiva para el óptimo de los 10,181,391 combinaciones posibles sería aproximadamente 59 días.\n",
    "\n",
    "#### 3.3.5 Método de optimización\n",
    "El método 'L-BFGS-B' es un algoritmo de optimización que pertenece a la familia de métodos cuasi-Newtonianos. 'L-BFGS-B' es la versión limitada del algoritmo 'BFGS' (Broyden-Fletcher-Goldfarb-Shanno) que admite restricciones de límites en los parámetros de optimización.\n",
    "\n",
    "El algoritmo 'BFGS' es un método iterativo que utiliza una aproximación de la matriz de Hesse inversa para calcular la dirección de búsqueda. La versión 'L-BFGS' (Limited-memory BFGS) es una variante que utiliza una cantidad limitada de memoria, lo que la hace más adecuada para problemas de optimización con un gran número de variables.\n",
    "\n",
    "El algoritmo 'L-BFGS-B' combina las ventajas del algoritmo 'L-BFGS' con la capacidad de manejar restricciones de límites en los parámetros de optimización. Esto es útil en situaciones donde se necesita restringir los valores de los parámetros a un rango específico."
   ]
  },
  {
   "cell_type": "markdown",
   "metadata": {},
   "source": [
    "# 4. Ejecución de la estrategia"
   ]
  },
  {
   "cell_type": "markdown",
   "metadata": {},
   "source": []
  },
  {
   "cell_type": "code",
   "execution_count": 7,
   "metadata": {},
   "outputs": [
    {
     "name": "stdout",
     "output_type": "stream",
     "text": [
      "Best take_profit_ratio: 0.01\n",
      "Best stop_loss_ratio: 0.01\n",
      "Best position_size: 10000.0\n"
     ]
    }
   ],
   "source": [
    "# Preprocesamiento de dataframes para evaluación de estrategia\n",
    "# Creación de indicadores\n",
    "# Exponential Moving Average y Aroon Oscillator\n",
    "train_df = (\n",
    "    train_df.pipe(functions.calculate_ema, 20)\n",
    "            .pipe(functions.calculate_aroon_oscillator)\n",
    ")\n",
    "# Parabolic SAR\n",
    "train_df[\"Parabolic_SAR\"] = functions.calculate_parabolic_sar(train_df)\n",
    "# Exponential Moving Average y Aroon Oscillator\n",
    "test_df = (\n",
    "    test_df.pipe(functions.calculate_ema, 20)\n",
    "            .pipe(functions.calculate_aroon_oscillator)\n",
    ")\n",
    "# Parabolic SAR\n",
    "test_df[\"Parabolic_SAR\"] = functions.calculate_parabolic_sar(test_df)\n",
    "\n",
    "# Optimización de parámetros y Backtesting (sólo sobre Train se realiza)\n",
    "best_params_train,iter_val_test = functions.best_fit_params(train_df)\n",
    "print(\"Best take_profit_ratio:\", best_params_train[0])\n",
    "print(\"Best stop_loss_ratio:\", best_params_train[1])\n",
    "print(\"Best position_size:\", best_params_train[2])\n",
    "\n",
    "# Creación del portafolio a partir de la estrategia con parámetros optimizados\n",
    "# Backtesting sobre entrenamiento\n",
    "portfolio = functions.run_trading_strategy(train_df,\n",
    "                                             capital=100000,\n",
    "                                             take_profit_ratio=best_params_train[0],\n",
    "                                             stop_loss_ratio=best_params_train[1],\n",
    "                                             position_size=best_params_train[2])\n",
    "# Sobre datos de prueba\n",
    "portfolio_test = functions.run_trading_strategy(test_df,\n",
    "                                             capital=100000,\n",
    "                                             take_profit_ratio=best_params_train[0],\n",
    "                                             stop_loss_ratio=best_params_train[1],\n",
    "                                             position_size=best_params_train[2])\n",
    "\n",
    "# Métricas de atribución al desempeño\n",
    "MAD_train = functions.portfolio_metrics(portfolio[[\"timeStamp\",\n",
    "                                                  \"Long_Entry\",\"Exit\",\"Position\",\n",
    "                                                  \"Capital\",\"Daily_Profit\",\n",
    "                                                  \"Take_Profit\",\"Stop_Loss\",\"Returns\",\n",
    "                                                  \"Cumulative_Returns\"]])\n",
    "MAD_test = functions.portfolio_metrics(portfolio_test[[\"timeStamp\",\n",
    "                                                  \"Long_Entry\",\"Exit\",\"Position\",\n",
    "                                                  \"Capital\",\"Daily_Profit\",\n",
    "                                                  \"Take_Profit\",\"Stop_Loss\",\"Returns\",\n",
    "                                                  \"Cumulative_Returns\"]])\n",
    "\n",
    "# Visualizaciones\n",
    "# Visualización de indicadores calculados sobre las series de tiempo\n",
    "# Se tienen que realizar sobre el slice de la posición 1 hacia adelante porque el Aroon en 0 es 0 y hace\n",
    "# que la gráfica salga espantosa\n",
    "train_ind = visualizations.plot_indicators(train_df.iloc[1:,:])\n",
    "test_ind = visualizations.plot_indicators(test_df.iloc[1:,:])\n",
    "# Visualización de la estrategia sobre la serie de tiempo\n",
    "trading_strat_train = visualizations.plot_indicators_2(portfolio.iloc[1:,:])\n",
    "trading_strat_test = visualizations.plot_indicators_2(portfolio_test.iloc[1:,:])\n",
    "#Visualización de la convergencia en la optimización de la estrategia\n",
    "conv_graph = visualizations.plot_capital_evolution(iter_val_test)"
   ]
  },
  {
   "cell_type": "code",
   "execution_count": null,
   "metadata": {},
   "outputs": [],
   "source": []
  },
  {
   "cell_type": "markdown",
   "metadata": {},
   "source": [
    "# 5. Resultados"
   ]
  },
  {
   "cell_type": "markdown",
   "metadata": {},
   "source": []
  },
  {
   "cell_type": "markdown",
   "metadata": {},
   "source": []
  },
  {
   "cell_type": "markdown",
   "metadata": {},
   "source": [
    "# 6. Conclusiones\n"
   ]
  },
  {
   "cell_type": "markdown",
   "metadata": {},
   "source": [
    "Como equipo, hemos trabajado arduamente para diseñar y ejecutar cada tarea del proyecto, siguiendo la estructura básica de proyectos de Python y dividiendo las tareas predefinidas para cada perfil de manera equitativa y efectiva. La estrategia de trading fue capaz de generar un rendimiento positivo, sin embargo no fue capaz de superar a la tasa libre de riesgo establecida del 5%, dando como resultado un radio de sharpe negativo.\n",
    "\n",
    "Para asegurarnos de que el sistema de trading propuesto sea efectivo, definimos los cuatro criterios necesarios para su éxito y realizamos una optimización y backtest financiero utilizando parámetros específicos. A través de estudios técnicos, definimos una función de utilidad y los parámetros que debían optimizarse, junto con el espacio de búsqueda y el método de optimización utilizado.\n",
    "\n",
    "En el proceso, también consideramos los aspectos estadísticos y computacionales necesarios para garantizar la precisión de los resultados. Hemos trabajado en equipo para asegurarnos de que todos los aspectos del proyecto estén integrados y funcionando sin problemas.\n",
    "\n",
    "Finalmente, aplicamos el sistema de trading a los datos de prueba y presentamos los resultados a través de gráficas y tablas. A través de nuestro esfuerzo conjunto y nuestro enfoque riguroso, hemos logrado desarrollar un sistema de trading sólido y eficaz, que esperamos que tenga un gran impacto en el mundo financiero.\n",
    "\n",
    "Hemos aprendido mucho sobre análisis técnico, herramientas financieras y estrategias de trading, así como sobre la importancia de trabajar en equipo y mantener altos estándares de calidad en nuestros proyectos. "
   ]
  },
  {
   "cell_type": "markdown",
   "metadata": {},
   "source": [
    "# 7. Referencias"
   ]
  },
  {
   "cell_type": "markdown",
   "metadata": {},
   "source": [
    "* Klinker, F. (2011). Exponential moving average versus moving exponential average. Mathematische Semesterberichte, 58, 97-107.\n",
    "* Yazdi, S. H. M., & LASHKARI, Z. H. (2012, November). Technical analysis of Forex by Parabolic SAR Indicator. In International Islamic Accounting and Finance Conference."
   ]
  },
  {
   "cell_type": "code",
   "execution_count": null,
   "metadata": {},
   "outputs": [],
   "source": []
  }
 ],
 "metadata": {
  "kernelspec": {
   "display_name": "Python 3 (ipykernel)",
   "language": "python",
   "name": "python3"
  },
  "language_info": {
   "codemirror_mode": {
    "name": "ipython",
    "version": 3
   },
   "file_extension": ".py",
   "mimetype": "text/x-python",
   "name": "python",
   "nbconvert_exporter": "python",
   "pygments_lexer": "ipython3",
   "version": "3.9.12"
  }
 },
 "nbformat": 4,
 "nbformat_minor": 2
}
